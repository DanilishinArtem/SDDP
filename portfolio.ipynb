{
 "cells": [
  {
   "cell_type": "code",
   "execution_count": null,
   "metadata": {},
   "outputs": [],
   "source": [
    "import torch\n",
    "import numpy\n",
    "import pandas\n",
    "from discretize import generator, MarkovSampler"
   ]
  },
  {
   "cell_type": "code",
   "execution_count": 11,
   "metadata": {},
   "outputs": [
    {
     "name": "stderr",
     "output_type": "stream",
     "text": [
      "/tmp/ipykernel_31164/2187737320.py:10: FutureWarning: Series.__getitem__ treating keys as positions is deprecated. In a future version, integer keys will always be treated as labels (consistent with DataFrame behavior). To access a value by position, use `ser.iloc[pos]`\n",
      "  beta = torch.tensor(coeffs['beta'])\n"
     ]
    }
   ],
   "source": [
    "# number of stages:\n",
    "T = 3\n",
    "# number of assets:\n",
    "N = 3\n",
    "# risk free interest rate:\n",
    "rf = 0.0005\n",
    "# additional dataset:\n",
    "fee = 0.001\n",
    "coeffs = pandas.read_csv(\"./data/coefficients.csv\",index_col=0)\n",
    "beta = torch.tensor(coeffs['beta'])"
   ]
  },
  {
   "cell_type": "code",
   "execution_count": 13,
   "metadata": {},
   "outputs": [],
   "source": [
    "# Markov chain discretization:\n",
    "markovian = MarkovSampler(generator, n_Markov_states=[1] + [100] * (T - 1), n_samples=1000, T=T)\n",
    "markovian.SA()\n",
    "Markov_states = [None for _ in range(T)]\n",
    "transition_matrix = markovian.transition_matrix\n",
    "for t in range(T):\n",
    "    # Markov_states (time, states, ((r_Mt, epsilon_Mt, sigma^2_Mt)))\n",
    "    market_return = markovian.Markov_states[t][:,0].reshape(-1,1)\n",
    "    asset_return_market_exposure = beta[:N]*(market_return-rf) + rf\n",
    "    Markov_states[t] = torch.cat((asset_return_market_exposure,markovian.Markov_states[t]), axis=1)"
   ]
  },
  {
   "cell_type": "code",
   "execution_count": null,
   "metadata": {},
   "outputs": [],
   "source": [
    "# https://github.com/lingquant/msppy/blob/master/doc/source/examples/portfolio_optimization/portfolio.ipynb\n",
    "\n",
    "AssetMgt = MSLP(T=T, sense=-1, bound=200)"
   ]
  }
 ],
 "metadata": {
  "kernelspec": {
   "display_name": "base",
   "language": "python",
   "name": "python3"
  },
  "language_info": {
   "codemirror_mode": {
    "name": "ipython",
    "version": 3
   },
   "file_extension": ".py",
   "mimetype": "text/x-python",
   "name": "python",
   "nbconvert_exporter": "python",
   "pygments_lexer": "ipython3",
   "version": "3.12.2"
  }
 },
 "nbformat": 4,
 "nbformat_minor": 2
}
